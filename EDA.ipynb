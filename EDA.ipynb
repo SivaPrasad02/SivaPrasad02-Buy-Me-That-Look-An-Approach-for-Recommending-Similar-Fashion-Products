{
 "cells": [
  {
   "cell_type": "markdown",
   "metadata": {},
   "source": [
    "<img src = 'https://previews.123rf.com/images/doctorblack/doctorblack1812/doctorblack181200042/113143564-fashion-calligraphy-minimal-fashion-slogan-line-for-t-shirt-and-apparels-creative-fashion-logo-desig.jpg'>"
   ]
  },
  {
   "cell_type": "markdown",
   "metadata": {},
   "source": [
    "<h1 style=\"text-align:center;font-size:30px;\" > Fashion recomendation system: Buy me thay Look </h1>"
   ]
  },
  {
   "cell_type": "markdown",
   "metadata": {},
   "source": [
    "<h1> 1. Business Problem </h1>"
   ]
  },
  {
   "cell_type": "markdown",
   "metadata": {},
   "source": [
    "<h2> 1.1 Description </h2>"
   ]
  },
  {
   "cell_type": "markdown",
   "metadata": {},
   "source": [
    "<p> This case study is about the fashion Recommendation system. It is very different from a normal\n",
    "recommendation system because in the majority of recommendations they try to recommend a\n",
    "product for a given single query or about a single product. But in this case it is kind of mostly\n",
    "different as follows -> while searching for a product the user might have also been interested in\n",
    "secondary products weared by the model. So to address this need we will recommend all the\n",
    "items weared by the models for the users.\n",
    "<p>\n",
    "<br>"
   ]
  },
  {
   "cell_type": "markdown",
   "metadata": {},
   "source": [
    "<h2>1.3 sourceful Links</h2>"
   ]
  },
  {
   "cell_type": "markdown",
   "metadata": {},
   "source": [
    "https://arxiv.org/pdf/2008.11638.pdf <p>\n",
    "Data_source : https://www.kaggle.com/shreyas90999/mycasestudy02ee/code"
   ]
  },
  {
   "cell_type": "markdown",
   "metadata": {},
   "source": [
    "<p> Data has 8 folders<br>\n",
    "1.women_boots<br>\n",
    "2.women_casual_shoes<br>\n",
    "3.women_flats<br>\n",
    "4.women_heels<br>\n",
    "5.women_jeans_jeggings<br>\n",
    "6.women_shirts_tops_tees<br>\n",
    "7.women_shorts_skirts<br>\n",
    "8.women_trousers<br>\n",
    "-> Each folder has images and json file.  Josn files having image link of aparticular product in various poses"
   ]
  },
  {
   "cell_type": "markdown",
   "metadata": {},
   "source": [
    "## EDA"
   ]
  },
  {
   "cell_type": "code",
   "execution_count": 16,
   "metadata": {},
   "outputs": [],
   "source": [
    "import matplotlib.pyplot as plt\n",
    "import seaborn as sn\n",
    "import numpy as np\n",
    "import time\n",
    "import os\n",
    "import warnings\n",
    "warnings.filterwarnings('ignore')"
   ]
  },
  {
   "cell_type": "code",
   "execution_count": 28,
   "metadata": {},
   "outputs": [],
   "source": [
    "def cnt(path):\n",
    "    count=0\n",
    "    for i in os.listdir(path):\n",
    "        if i.split('.')[1]=='json':\n",
    "            count = count+1\n",
    "    return count\n",
    "women_boots     = cnt('data\\women_boots')  \n",
    "women_casual_shoes= cnt('data\\women_casual_shoes')\n",
    "women_flats    = cnt('data\\women_flats')\n",
    "women_heels    = cnt('data\\women_heels')\n",
    "women_jeans_jeggings = cnt('data\\women_jeans_jeggings')\n",
    "women_shirts_tops_tees=cnt('data\\women_shirts_tops_tees')\n",
    "women_shorts_skirts = cnt('data\\women_shorts_skirts')\n",
    "women_trousers = cnt('data\\women_trousers')"
   ]
  },
  {
   "cell_type": "code",
   "execution_count": 29,
   "metadata": {},
   "outputs": [
    {
     "data": {
      "text/plain": [
       "(1044, 1478, 2216, 2499, 718, 3388, 1031, 2839)"
      ]
     },
     "execution_count": 29,
     "metadata": {},
     "output_type": "execute_result"
    }
   ],
   "source": [
    "women_boots,women_casual_shoes,women_flats,women_heels,women_jeans_jeggings,women_shirts_tops_tees,women_shorts_skirts,women_trousers"
   ]
  },
  {
   "cell_type": "code",
   "execution_count": 41,
   "metadata": {},
   "outputs": [
    {
     "data": {
      "image/png": "[encoded data removed]",
      "text/plain": [
       "<Figure size 360x360 with 1 Axes>"
      ]
     },
     "metadata": {
      "needs_background": "light"
     },
     "output_type": "display_data"
    }
   ],
   "source": [
    "plt.figure(figsize=(5,5))\n",
    "sn.barplot(\n",
    "    [women_boots,women_casual_shoes,women_flats,women_heels,women_jeans_jeggings,women_shirts_tops_tees,women_shorts_skirts,women_trousers],\n",
    "  ['women_boots','women_casual_shoes','women_flats','women_heels','women_jeans_jeggings','women_shirts_tops_tees','women_shorts_skirts','women_trousers'])\n",
    "plt.title('No of products for each category',fontsize=20)\n",
    "plt.xlabel(\"count\",fontsize=15)\n",
    "plt.ylabel('Products',fontsize=15)\n",
    "plt.show()"
   ]
  },
  {
   "cell_type": "code",
   "execution_count": null,
   "metadata": {},
   "outputs": [],
   "source": []
  }
 ],
 "metadata": {
  "kernelspec": {
   "display_name": "Python 3",
   "language": "python",
   "name": "python3"
  },
  "language_info": {
   "codemirror_mode": {
    "name": "ipython",
    "version": 3
   },
   "file_extension": ".py",
   "mimetype": "text/x-python",
   "name": "python",
   "nbconvert_exporter": "python",
   "pygments_lexer": "ipython3",
   "version": "3.7.10"
  }
 },
 "nbformat": 4,
 "nbformat_minor": 4
}
